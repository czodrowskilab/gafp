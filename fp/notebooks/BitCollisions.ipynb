{
 "cells": [
  {
   "cell_type": "code",
   "execution_count": null,
   "metadata": {},
   "outputs": [],
   "source": [
    "from rdkit import Chem\n",
    "from rdkit.Chem import AllChem\n",
    "from rdkit.Chem import Draw\n",
    "import pandas as pd\n",
    "from sys import argv\n",
    "import numpy as np\n",
    "import matplotlib.pyplot as plt\n",
    "import matplotlib.cm as cm\n",
    "import operator"
   ]
  },
  {
   "cell_type": "code",
   "execution_count": null,
   "metadata": {},
   "outputs": [],
   "source": [
    "#input_csv =  # argv[1]\n",
    "fp_bits = 1024 #int(argv[2])\n",
    "fp_radius = 4\n",
    "fp_threshold = 0.01"
   ]
  },
  {
   "cell_type": "code",
   "execution_count": null,
   "metadata": {},
   "outputs": [],
   "source": [
    "def includeRingMembership(s, n):\n",
    "    r = ';R]'\n",
    "    d = ']'\n",
    "    return r.join([d.join(s.split(d)[:n]), d.join(s.split(d)[n:])])\n",
    "\n",
    "\n",
    "def includeDegree(s, n, d):\n",
    "    r = ';D' + str(d) + ']'\n",
    "    d = ']'\n",
    "    return r.join([d.join(s.split(d)[:n]), d.join(s.split(d)[n:])])\n",
    "\n",
    "\n",
    "def writePropsToSmiles(mol, smi, order):\n",
    "    finalsmi = smi\n",
    "    for i, a in enumerate(order):\n",
    "        atom = mol.GetAtomWithIdx(a)\n",
    "        if atom.IsInRing():\n",
    "            finalsmi = includeRingMembership(finalsmi, i + 1)\n",
    "        finalsmi = includeDegree(finalsmi, i + 1, atom.GetDegree())\n",
    "    return finalsmi\n",
    "\n",
    "\n",
    "def getSubstructSmi(mol, atomID, radius):\n",
    "    if radius > 0:\n",
    "        env = Chem.FindAtomEnvironmentOfRadiusN(mol, radius, atomID)\n",
    "        atomsToUse = []\n",
    "        for b in env:\n",
    "            atomsToUse.append(mol.GetBondWithIdx(b).GetBeginAtomIdx())\n",
    "            atomsToUse.append(mol.GetBondWithIdx(b).GetEndAtomIdx())\n",
    "        atomsToUse = list(set(atomsToUse))\n",
    "    else:\n",
    "        atomsToUse = [atomID]\n",
    "        env = None\n",
    "    smi = Chem.MolFragmentToSmiles(mol, atomsToUse, bondsToUse=env, allHsExplicit=True, allBondsExplicit=True,\n",
    "                                   rootedAtAtom=atomID)\n",
    "    order = eval(mol.GetProp('_smilesAtomOutputOrder'))\n",
    "    smi2 = writePropsToSmiles(mol, smi, order)\n",
    "    return smi, smi2"
   ]
  },
  {
   "cell_type": "code",
   "execution_count": null,
   "metadata": {},
   "outputs": [],
   "source": [
    "df = pd.read_csv(\"herg_chembl_fs.csv\")\n",
    "mols = [Chem.MolFromSmiles(smiles) for smiles in df.UniSMILES.values]"
   ]
  },
  {
   "cell_type": "code",
   "execution_count": null,
   "metadata": {},
   "outputs": [],
   "source": [
    "fps = []\n",
    "substr = dict.fromkeys(range(fp_bits))\n",
    "for m in range(len(mols)):\n",
    "    mol = mols[m]\n",
    "    info = {}\n",
    "    fp = AllChem.GetMorganFingerprintAsBitVect(mol, fp_radius, fp_bits, bitInfo=info)\n",
    "    fps.append(fp)\n",
    "    for key in info.keys():\n",
    "        center, rad = info[key][0]\n",
    "        smi, smi2 = getSubstructSmi(mol, center, rad)\n",
    "        try:\n",
    "            if smi2 in substr[key].keys():\n",
    "                substr[key][smi2] += 1\n",
    "            else:\n",
    "                substr[key][smi2] = 1\n",
    "        except:\n",
    "            substr[key] = {}\n",
    "            substr[key][smi2] = 1"
   ]
  },
  {
   "cell_type": "code",
   "execution_count": null,
   "metadata": {},
   "outputs": [],
   "source": [
    "substr_counts = [len(x) if x is not None else 0 for _, x in substr.items()]\n",
    "print('Table column entries')\n",
    "print(np.mean(substr_counts))"
   ]
  },
  {
   "cell_type": "code",
   "execution_count": null,
   "metadata": {},
   "outputs": [],
   "source": [
    "variance = np.var(fps, axis=0)\n",
    "redundant_bits = {}\n",
    "filtered_bits = {}"
   ]
  },
  {
   "cell_type": "code",
   "execution_count": null,
   "metadata": {},
   "outputs": [],
   "source": [
    "for ix, var in enumerate(variance):\n",
    "    if var <= fp_threshold:\n",
    "        redundant_bits[ix] = np.round(var * len(fps))\n",
    "    else:\n",
    "        filtered_bits[ix] = np.round(var * len(fps))\n",
    "\n",
    "print(len(redundant_bits))\n",
    "print(0)"
   ]
  },
  {
   "cell_type": "code",
   "execution_count": null,
   "metadata": {},
   "outputs": [],
   "source": [
    "indices = list(filtered_bits.keys())\n",
    "print(np.mean(np.array(substr_counts)[indices]))\n",
    "print(len(filtered_bits))"
   ]
  },
  {
   "cell_type": "code",
   "execution_count": null,
   "metadata": {},
   "outputs": [],
   "source": [
    "fig, ax = plt.subplots(figsize=(5, 8))\n",
    "# just grab first 5 substructs for visualization\n",
    "keys = np.arange(0, 5)\n",
    "width = 0.35\n",
    "cmaps = ['Oranges', 'Purples', 'Reds', 'Blues', 'Greens']\n",
    "cmap = cm.get_cmap('Dark2')\n",
    "uniques = []\n",
    "draw_structs = []\n",
    "bottoms = []\n",
    "\n",
    "for ind in keys:\n",
    "    try:\n",
    "        # Use a new colour scheme because each colour is a unique struct\n",
    "        c_index = 0.5\n",
    "        cmap = cm.get_cmap(cmaps[ind])\n",
    "        structs = substr[keys[ind]]\n",
    "        bottom = 0\n",
    "        sort = sorted(structs.items(), key=operator.itemgetter(1))\n",
    "        length = len(sort)\n",
    "        # Grab the two most common substruct for visualization\n",
    "        draw_structs.append(sort[-1][0])\n",
    "        draw_structs.append(sort[-2][0])\n",
    "        uniques.append(len(np.unique(sort)))\n",
    "\n",
    "        for i in range(1, length):\n",
    "            if i > 2:\n",
    "                col = 'black'\n",
    "            else:\n",
    "                col = cmap(c_index)\n",
    "            ax.bar(ind, sort[length - i][1], width, bottom=bottom, color=col, antialiased=True)\n",
    "            bottom += sort[length - i][1]\n",
    "            if col != 'black':\n",
    "                c_index += 0.3\n",
    "        bottoms.append(bottom)\n",
    "    except:\n",
    "        raise\n",
    "ax.set_xticks(keys)\n",
    "ax.set_xticklabels(keys)\n",
    "\n",
    "plt.ylabel('Absolute substructure frequency')\n",
    "plt.xlabel('Fingerprint bit')\n",
    "text_yoffset = 5\n",
    "text_xoffset = -0.125\n",
    "for i in keys:\n",
    "    plt.text(i + text_xoffset, bottoms[i] + text_yoffset, uniques[i], weight='bold')\n",
    "\n",
    "plt.savefig('substructures.png', dpi=400)"
   ]
  },
  {
   "cell_type": "code",
   "execution_count": null,
   "metadata": {},
   "outputs": [],
   "source": [
    "# RDKit throws errors, don't know why\n",
    "for struct_ix in range(len(draw_structs)):\n",
    "    Draw.MolToImageFile(Chem.MolFromSmarts(draw_structs[struct_ix]), f'substruct_{struct_ix}.png', kekulize=False)"
   ]
  },
  {
   "cell_type": "code",
   "execution_count": null,
   "metadata": {},
   "outputs": [],
   "source": []
  }
 ],
 "metadata": {
  "kernelspec": {
   "display_name": "Python 3",
   "language": "python",
   "name": "python3"
  },
  "language_info": {
   "codemirror_mode": {
    "name": "ipython",
    "version": 3
   },
   "file_extension": ".py",
   "mimetype": "text/x-python",
   "name": "python",
   "nbconvert_exporter": "python",
   "pygments_lexer": "ipython3",
   "version": "3.6.6"
  }
 },
 "nbformat": 4,
 "nbformat_minor": 2
}
